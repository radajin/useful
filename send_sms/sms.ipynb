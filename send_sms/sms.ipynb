{
 "cells": [
  {
   "cell_type": "code",
   "execution_count": 3,
   "metadata": {
    "collapsed": true
   },
   "outputs": [],
   "source": [
    "import requests"
   ]
  },
  {
   "cell_type": "code",
   "execution_count": 4,
   "metadata": {
    "collapsed": false
   },
   "outputs": [
    {
     "name": "stdout",
     "output_type": "stream",
     "text": [
      "{'msg_body': 'test', 'dest_phone': '01048808434', 'subject': None, 'send_phone': '01048808434'}\n"
     ]
    },
    {
     "data": {
      "text/plain": [
       "<Response [200]>"
      ]
     },
     "execution_count": 4,
     "metadata": {},
     "output_type": "execute_result"
    }
   ],
   "source": [
    "# send sms\n",
    "def send_sms(send_phone, dest_phone, content, subject=None):\n",
    "    base_url = \"http://api.openapi.io/ppurio/1/message/sms/dobestan\"\n",
    "    headers = {\n",
    "        'x-waple-authorization': 'MTkyMC0xNDEzODU0NTAwMzU3LTllM2VkOTM3LTYwMTEtNGU2Zi1iZWQ5LTM3NjAxMTNlNmYyMg==',\n",
    "    }\n",
    "    payload = {\n",
    "        'send_phone': send_phone, \n",
    "        'dest_phone': dest_phone,\n",
    "        'msg_body': content,\n",
    "        'subject': subject,\n",
    "    }\n",
    "    print(payload)\n",
    "    response = payload\n",
    "    response = requests.post(\n",
    "        base_url,\n",
    "        data=payload,\n",
    "        headers=headers,\n",
    "    )\n",
    "    return response\n",
    "\n",
    "def send_sms_myself(content):\n",
    "    MY_PHONE_NUMBER = \"01048808434\"\n",
    "    return send_sms(MY_PHONE_NUMBER, MY_PHONE_NUMBER, content)\n",
    "\n",
    "send_sms_myself(\"test\")"
   ]
  },
  {
   "cell_type": "code",
   "execution_count": null,
   "metadata": {
    "collapsed": true
   },
   "outputs": [],
   "source": []
  }
 ],
 "metadata": {
  "kernelspec": {
   "display_name": "Python 3",
   "language": "python",
   "name": "python3"
  },
  "language_info": {
   "codemirror_mode": {
    "name": "ipython",
    "version": 3
   },
   "file_extension": ".py",
   "mimetype": "text/x-python",
   "name": "python",
   "nbconvert_exporter": "python",
   "pygments_lexer": "ipython3",
   "version": "3.5.1"
  }
 },
 "nbformat": 4,
 "nbformat_minor": 0
}
