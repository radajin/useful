{
 "cells": [
  {
   "cell_type": "code",
   "execution_count": 1,
   "metadata": {
    "collapsed": true,
    "deletable": true,
    "editable": true
   },
   "outputs": [],
   "source": [
    "from selenium import webdriver\n",
    "import time"
   ]
  },
  {
   "cell_type": "code",
   "execution_count": 2,
   "metadata": {
    "collapsed": true,
    "deletable": true,
    "editable": true
   },
   "outputs": [],
   "source": [
    "# remove str\n",
    "def removeStr(text, word):\n",
    "    return \"\".join(text.split(word))\n",
    "\n",
    "def getVision(image_url, category=\"Labels\"):\n",
    "    \n",
    "    url = 'https://cloud.google.com/vision/'\n",
    "    \n",
    "    # open site\n",
    "    driver =  webdriver.Chrome()\n",
    "    driver.get(url)\n",
    "    \n",
    "    # enter iframe\n",
    "    iframe = driver.find_element_by_css_selector(\"#vision_demo_section iframe\")\n",
    "    driver.switch_to_frame(iframe)\n",
    "    \n",
    "    # upload image    \n",
    "    driver.find_element_by_id(\"input\").send_keys(image_url)\n",
    "    \n",
    "    # check loading done\n",
    "    result = []\n",
    "    for _ in range(10):\n",
    "        time.sleep(1);\n",
    "        if driver.find_element_by_id(\"results\").text != '':\n",
    "            break\n",
    "    \n",
    "    # conditional category\n",
    "    if category == \"Labels\":\n",
    "        driver.find_element_by_css_selector(\"[data-type=labelAnnotations]\").click()\n",
    "        result = driver.find_element_by_id(\"results\").text.split(\"\\n\")\n",
    "    elif category == \"Web\":\n",
    "        driver.find_element_by_css_selector(\"[data-type=webDetection]\").click()\n",
    "        result = driver.find_element_by_id(\"results\").text.split(\"\\n\")[1:]\n",
    "    elif category == \"Text\":\n",
    "        driver.find_element_by_css_selector(\"[data-type=textAnnotations]\").click()\n",
    "        result = driver.find_element_by_css_selector(\"#results .text\").text\n",
    "        result = removeStr(result, \"“\")\n",
    "        result = removeStr(result, \"”\")\n",
    "        result = result.strip()\n",
    "\n",
    "    # close driver\n",
    "    driver.close()\n",
    "    \n",
    "    return result"
   ]
  },
  {
   "cell_type": "markdown",
   "metadata": {},
   "source": [
    "### Labels"
   ]
  },
  {
   "cell_type": "code",
   "execution_count": 3,
   "metadata": {
    "collapsed": false,
    "deletable": true,
    "editable": true
   },
   "outputs": [
    {
     "data": {
      "text/plain": [
       "('Reflection 97%', 'Nature 96%', 'Water 94%')"
      ]
     },
     "execution_count": 3,
     "metadata": {},
     "output_type": "execute_result"
    }
   ],
   "source": [
    "image_url = '/Users/rada/Desktop/test_images/3134-8.jpg'\n",
    "result = getVision(image_url)\n",
    "result[0], result[1], result[2]"
   ]
  },
  {
   "cell_type": "code",
   "execution_count": 4,
   "metadata": {
    "collapsed": false
   },
   "outputs": [
    {
     "data": {
      "text/plain": [
       "('Road 96%', 'Landmark 91%', 'Infrastructure 89%')"
      ]
     },
     "execution_count": 4,
     "metadata": {},
     "output_type": "execute_result"
    }
   ],
   "source": [
    "image_url = '/Users/rada/Desktop/test_images/324-8.jpg'\n",
    "result = getVision(image_url)\n",
    "result[0], result[1], result[2]"
   ]
  },
  {
   "cell_type": "code",
   "execution_count": 5,
   "metadata": {
    "collapsed": false
   },
   "outputs": [
    {
     "data": {
      "text/plain": [
       "('Sky 94%', 'Town 90%', 'Evening 83%')"
      ]
     },
     "execution_count": 5,
     "metadata": {},
     "output_type": "execute_result"
    }
   ],
   "source": [
    "image_url = '/Users/rada/Desktop/test_images/1167-8.jpg'\n",
    "result = getVision(image_url)\n",
    "result[0], result[1], result[2]"
   ]
  },
  {
   "cell_type": "markdown",
   "metadata": {},
   "source": [
    "### Web Info"
   ]
  },
  {
   "cell_type": "code",
   "execution_count": 6,
   "metadata": {
    "collapsed": false,
    "deletable": true,
    "editable": true
   },
   "outputs": [
    {
     "data": {
      "text/plain": [
       "('Jun Ji-hyun 19.9046',\n",
       " 'South Korea 1.20324',\n",
       " 'The Legend of the Blue Sea 1.04726')"
      ]
     },
     "execution_count": 6,
     "metadata": {},
     "output_type": "execute_result"
    }
   ],
   "source": [
    "image_url = '/Users/rada/Desktop/test_images/jj.jpg'\n",
    "result = getVision(image_url, \"Web\")\n",
    "result[0], result[1], result[2]"
   ]
  },
  {
   "cell_type": "code",
   "execution_count": 7,
   "metadata": {
    "collapsed": false,
    "deletable": true,
    "editable": true
   },
   "outputs": [
    {
     "data": {
      "text/plain": [
       "('Seolhyun 19.3384', 'South Korea 1.43164', 'AOA 0.71844')"
      ]
     },
     "execution_count": 7,
     "metadata": {},
     "output_type": "execute_result"
    }
   ],
   "source": [
    "image_url = '/Users/rada/Desktop/test_images/ss.png'\n",
    "result = getVision(image_url, \"Web\")\n",
    "result[0], result[1], result[2]"
   ]
  },
  {
   "cell_type": "code",
   "execution_count": 8,
   "metadata": {
    "collapsed": false,
    "deletable": true,
    "editable": true
   },
   "outputs": [
    {
     "data": {
      "text/plain": [
       "('Lee Hyori 19.7444', 'Lee Sang-soon 1.41108', 'South Korea 1.25772')"
      ]
     },
     "execution_count": 8,
     "metadata": {},
     "output_type": "execute_result"
    }
   ],
   "source": [
    "image_url = '/Users/rada/Desktop/test_images/ll.jpg'\n",
    "result = getVision(image_url, \"Web\")\n",
    "result[0], result[1], result[2]"
   ]
  },
  {
   "cell_type": "markdown",
   "metadata": {
    "collapsed": true,
    "deletable": true,
    "editable": true
   },
   "source": [
    "### Text"
   ]
  },
  {
   "cell_type": "code",
   "execution_count": 9,
   "metadata": {
    "collapsed": false,
    "deletable": true,
    "editable": true
   },
   "outputs": [
    {
     "data": {
      "text/plain": [
       "\"I'm a normal text I'm a bold text\""
      ]
     },
     "execution_count": 9,
     "metadata": {},
     "output_type": "execute_result"
    }
   ],
   "source": [
    "image_url = '/Users/rada/Desktop/test_images/text1.png'\n",
    "result = getVision(image_url, \"Text\")\n",
    "result"
   ]
  },
  {
   "cell_type": "code",
   "execution_count": 10,
   "metadata": {
    "collapsed": false,
    "deletable": true,
    "editable": true
   },
   "outputs": [
    {
     "data": {
      "text/plain": [
       "'SOME PEOPLE IN OUR LIVES AND QUICKLYO WHILE OTHERS STAYAND LEAVE IN FOOTPRINTS COME INTO AND WEARE NEVERTHE AN SAME'"
      ]
     },
     "execution_count": 10,
     "metadata": {},
     "output_type": "execute_result"
    }
   ],
   "source": [
    "image_url = '/Users/rada/Desktop/test_images/text2.jpg'\n",
    "result = getVision(image_url, \"Text\")\n",
    "result"
   ]
  },
  {
   "cell_type": "code",
   "execution_count": 11,
   "metadata": {
    "collapsed": false
   },
   "outputs": [
    {
     "data": {
      "text/plain": [
       "\"front turned dolokhov take spoken two face look Sonya Kutuzov anything. voice house others A much more though just first expression like still battle Choose emperor put without NOW we thoughtasked; generalright 'napoleon day, told war place life something Alooked get well understand , let seemed came must behind people natashalokesprincessrosta. Countess yet army room suddenly knew old awayCome done See I love mOSCOW head think last longmiens even letter god wholeeve roundheard moment felt toward saw officermight going boris I never way sat made denisov US words yes took oh horse father stood tell hand trench know time chapter evident already. replied manCount order went smile young another licholas ran make door give\""
      ]
     },
     "execution_count": 11,
     "metadata": {},
     "output_type": "execute_result"
    }
   ],
   "source": [
    "image_url = '/Users/rada/Desktop/test_images/text3.png'\n",
    "result = getVision(image_url, \"Text\")\n",
    "result"
   ]
  },
  {
   "cell_type": "code",
   "execution_count": null,
   "metadata": {
    "collapsed": true
   },
   "outputs": [],
   "source": []
  }
 ],
 "metadata": {
  "kernelspec": {
   "display_name": "Python 3",
   "language": "python",
   "name": "python3"
  },
  "language_info": {
   "codemirror_mode": {
    "name": "ipython",
    "version": 3
   },
   "file_extension": ".py",
   "mimetype": "text/x-python",
   "name": "python",
   "nbconvert_exporter": "python",
   "pygments_lexer": "ipython3",
   "version": "3.6.0"
  }
 },
 "nbformat": 4,
 "nbformat_minor": 2
}
